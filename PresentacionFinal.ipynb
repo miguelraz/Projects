{
 "cells": [
  {
   "cell_type": "markdown",
   "metadata": {
    "slideshow": {
     "slide_type": "slide"
    }
   },
   "source": [
    "Presentación Final\n",
    "\n",
    "Física Computacional - David Sanders\n",
    "\n",
    "\n",
    "Miguel Raz-Guzmán Macedo\n",
    "\n",
    "Modelo juguete de Ising para ferromagnetismo"
   ]
  },
  {
   "cell_type": "markdown",
   "metadata": {
    "slideshow": {
     "slide_type": "fragment"
    }
   },
   "source": [
    "![](http://cdn.instructables.com/F23/5RX1/GXL6FHS4/F235RX1GXL6FHS4.LARGE.jpg)"
   ]
  },
  {
   "cell_type": "markdown",
   "metadata": {
    "slideshow": {
     "slide_type": "fragment"
    }
   },
   "source": [
    "github.com/miguelraz/Projects/FinalSanders"
   ]
  },
  {
   "cell_type": "markdown",
   "metadata": {
    "slideshow": {
     "slide_type": "slide"
    }
   },
   "source": [
    "I. Problema de interés\n",
    "- ¿Cómo diantres funcionan los imanes?\n",
    "- ¿Qué tipos de imanes hay y que los diferencia?"
   ]
  },
  {
   "cell_type": "markdown",
   "metadata": {
    "slideshow": {
     "slide_type": "fragment"
    }
   },
   "source": [
    "![](http://cdn.iopscience.com/images/0022-3727/42/3/032006/Full/jphysd292798fig03.jpg)"
   ]
  },
  {
   "cell_type": "markdown",
   "metadata": {
    "slideshow": {
     "slide_type": "fragment"
    }
   },
   "source": [
    "Nos encontramos con un problema de análisis de transición de fases de varios factores a nivel de estado sólido, y no tengo la más mínima idea de cómo pueden interaccionar de manera tan compleja."
   ]
  },
  {
   "cell_type": "markdown",
   "metadata": {
    "slideshow": {
     "slide_type": "fragment"
    }
   },
   "source": [
    "Al agua patos - ¿Cómo lo modelo?"
   ]
  },
  {
   "cell_type": "markdown",
   "metadata": {
    "slideshow": {
     "slide_type": "fragment"
    }
   },
   "source": [
    "![](http://memesvault.com/wp-content/uploads/I-Have-No-Idea-What-Im-Doing-Dog-02.jpg)"
   ]
  },
  {
   "cell_type": "markdown",
   "metadata": {
    "slideshow": {
     "slide_type": "slide"
    }
   },
   "source": [
    "II. Herramientas\n",
    "\n",
    "\n",
    "Usaremos el modelo de Ising para representar los spines de los electrones en arreglo de superficie plano representado 1 y -1s.\n",
    "\n",
    "Actualizaremos puntos arbitrarios dadas las condiciones iniciales y simplificaciones del problema y graficaremos los comportamientos correspondientes. "
   ]
  },
  {
   "cell_type": "markdown",
   "metadata": {
    "slideshow": {
     "slide_type": "slide"
    }
   },
   "source": [
    "Primero definiremos varias funciones para embonar y construir nuestra simulación completa."
   ]
  },
  {
   "cell_type": "code",
   "execution_count": null,
   "metadata": {
    "collapsed": true
   },
   "outputs": [],
   "source": [
    "using PyPlot\n",
    "Ntiempo = 10000\n",
    "NGridSize = 5 #Arista de cubo\n",
    "T = 370 # En Kelvin\n",
    "κ = 1 # Constante de intercambio de energia\n",
    "β = 1/(κ * T)\n",
    "J = 1 #Cte de Magnetizacion"
   ]
  },
  {
   "cell_type": "code",
   "execution_count": 21,
   "metadata": {
    "collapsed": true,
    "slideshow": {
     "slide_type": "fragment"
    }
   },
   "outputs": [],
   "source": [
    "#Crear arreglo que nos interesa\n",
    "function RestartGrid(NGridSize=10)\n",
    "    Grid = rand(-1:2:1,NGridSize,NGridSize)\n",
    "    return Grid\n",
    "end"
   ]
  },
  {
   "cell_type": "code",
   "execution_count": null,
   "metadata": {
    "collapsed": true,
    "slideshow": {
     "slide_type": "fragment"
    }
   },
   "outputs": [],
   "source": [
    "RestartGrid()"
   ]
  },
  {
   "cell_type": "code",
   "execution_count": null,
   "metadata": {
    "collapsed": true,
    "slideshow": {
     "slide_type": "fragment"
    }
   },
   "outputs": [],
   "source": [
    "function RestartChoice(NGridSize=10)\n",
    "    \n",
    "    Row = rand(1:NGridSize)\n",
    "    Col = rand(1:NGridSize)\n",
    "    return Row, Col\n",
    "end"
   ]
  },
  {
   "cell_type": "code",
   "execution_count": null,
   "metadata": {
    "collapsed": true,
    "slideshow": {
     "slide_type": "fragment"
    }
   },
   "outputs": [],
   "source": [
    "RestartChoice()"
   ]
  },
  {
   "cell_type": "code",
   "execution_count": null,
   "metadata": {
    "collapsed": true,
    "slideshow": {
     "slide_type": "fragment"
    }
   },
   "outputs": [],
   "source": [
    "# Estableciendo por separado puntos de referencua\n",
    "YSouth = mod(Row,NGridSize)+1\n",
    "XWest = mod(Col,  NGridSize) +1\n",
    "XEast = mod(Col-2,  NGridSize) +1\n",
    "YNorth = mod(Row-2, NGridSize) +1\n",
    "\n",
    "#Por favor, investiguen la funcion mod1()"
   ]
  },
  {
   "cell_type": "code",
   "execution_count": null,
   "metadata": {
    "collapsed": true
   },
   "outputs": [],
   "source": [
    "A = reshape(1:NGridSize^2,NGridSize,NGridSize)"
   ]
  },
  {
   "cell_type": "code",
   "execution_count": null,
   "metadata": {
    "collapsed": true
   },
   "outputs": [],
   "source": [
    "#Test!\n",
    "Row = 3\n",
    "Col = 2\n",
    "A[YNorth,Col],\n",
    "A[YSouth, Col],\n",
    "A[Row, XWest],\n",
    "A[Row, XEast]"
   ]
  },
  {
   "cell_type": "code",
   "execution_count": null,
   "metadata": {
    "collapsed": true
   },
   "outputs": [],
   "source": [
    "# Datos procesados del sistema en un determinado instante\n",
    "\n",
    "North(Row,Col) = J*(Grid[Row,Col] * Grid[YNorth, Col])\n",
    "\n",
    "East(Row,Col) = J*(Grid[Row,Col] * Grid[Row, XEast])\n",
    "\n",
    "West(Row,Col) = J*(Grid[Row,Col] * Grid[Row, XWest])\n",
    "\n",
    "South(Row,Col) = J*(Grid[Row,Col] * Grid[YSouth, Col])\n",
    "\n",
    "NESW(Row,Col) = North(Row,Col) + East(Row,Col) + South(Row,Col) + West(Row,Col) "
   ]
  },
  {
   "cell_type": "code",
   "execution_count": null,
   "metadata": {
    "collapsed": true
   },
   "outputs": [],
   "source": [
    "function Energia_σ(Row,Col) \n",
    "    energia = 0\n",
    "    energia = -1 * NESW(Row,Col)\n",
    "    return energia\n",
    "end"
   ]
  },
  {
   "cell_type": "code",
   "execution_count": null,
   "metadata": {
    "collapsed": true
   },
   "outputs": [],
   "source": [
    "Grid = RestartGrid()"
   ]
  },
  {
   "cell_type": "code",
   "execution_count": null,
   "metadata": {
    "collapsed": true
   },
   "outputs": [],
   "source": [
    "#Sanity Test! Queremos comprobar que nuestras regiones fantasmas no se rompan.\n",
    "\n",
    "NGridSize = 10\n",
    "Grid = RestartGrid()\n",
    "\n",
    "Row, Col = RestartChoice()\n",
    "\n",
    "North(Row, Col), East(Row, Col), South(Row, Col), West(Row, Col), Energia_σ(Row, Col)"
   ]
  },
  {
   "cell_type": "code",
   "execution_count": null,
   "metadata": {
    "collapsed": true
   },
   "outputs": [],
   "source": [
    "function EnergiaTotalN()\n",
    "    energiaTotalN = 0\n",
    "    \n",
    "    for Row in 1:NGridSize, Col in 1:NGridSize\n",
    "        \n",
    "        energiaTotalN = energiaTotalN + Energia_σ(Row,Col)              \n",
    "    end\n",
    "    \n",
    "    return energiaTotalN *.5 # Interesante! Cada energia la calculo 2 veces. Hay que descontar.\n",
    "end   "
   ]
  },
  {
   "cell_type": "code",
   "execution_count": null,
   "metadata": {
    "collapsed": true
   },
   "outputs": [],
   "source": [
    "Grid = RestartGrid()\n",
    "EnergiaTotalN()"
   ]
  },
  {
   "cell_type": "code",
   "execution_count": null,
   "metadata": {
    "collapsed": true
   },
   "outputs": [],
   "source": [
    "function Magnetizacion(Grid)\n",
    "    magnetizacion = sum(Grid)\n",
    "    return magnetizacion\n",
    "end    "
   ]
  },
  {
   "cell_type": "code",
   "execution_count": null,
   "metadata": {
    "collapsed": true
   },
   "outputs": [],
   "source": [
    "Magnetizacion(Grid)"
   ]
  },
  {
   "cell_type": "code",
   "execution_count": null,
   "metadata": {
    "collapsed": true
   },
   "outputs": [],
   "source": [
    "function Flipper(Row,Col,Energias,EnergiaTotalN,energiaTotalN,FlipCounter,Flips,Magnetismos,magnetizacion)\n",
    "\n",
    "    proba_σ = 0\n",
    "    energia_σ = 0\n",
    "    \n",
    "    proba_σ = Proba_σ(Row,Col)\n",
    "    energia_σ = Energia_σ(Row,Col)\n",
    "    \n",
    "    if rand() < proba_σ\n",
    "        \n",
    "        Grid[Row,Col] *= -1\n",
    "        \n",
    "        energia_s = Energia_σ(Row,Col)\n",
    "        \n",
    "        energiaTotalN = energiaTotalN + 2*energia_σ # puede que vaya a la mitad\n",
    "\n",
    "        FlipCounter = FlipCounter + 1\n",
    "        \n",
    "        magnetizacion = magnetizacion + 2*Grid[Row,Col]\n",
    "    end \n",
    "    \n",
    "        push!(Energias, energiaTotalN)\n",
    "        push!(Flips, FlipCounter)\n",
    "        push!(Magnetismos, magnetizacion)\n",
    "    \n",
    "    return energiaTotalN, FlipCounter, magnetizacion\n",
    "end"
   ]
  },
  {
   "cell_type": "code",
   "execution_count": null,
   "metadata": {
    "collapsed": true
   },
   "outputs": [],
   "source": [
    "Row = 2\n",
    "Col = 2\n",
    "Energias = []\n",
    "energiaTotalN = 2\n",
    "Magnetismos = []\n",
    "magnetizacion = 2\n",
    "\n"
   ]
  },
  {
   "cell_type": "code",
   "execution_count": null,
   "metadata": {
    "collapsed": true
   },
   "outputs": [],
   "source": [
    "Magnetismos"
   ]
  },
  {
   "cell_type": "code",
   "execution_count": null,
   "metadata": {
    "collapsed": true
   },
   "outputs": [],
   "source": [
    "energiaTotalN, FlipCounter, magnetizacion = Flipper(Row,Col,EnergiaTotalN,energiaTotalN,FlipCounter,Flips,Magnetismos, magnetizacion)"
   ]
  },
  {
   "cell_type": "markdown",
   "metadata": {
    "slideshow": {
     "slide_type": "slide"
    }
   },
   "source": [
    "Hecha la talacha, llegamos a nuestro gran ciclo de simulación."
   ]
  },
  {
   "cell_type": "code",
   "execution_count": null,
   "metadata": {
    "collapsed": true
   },
   "outputs": [],
   "source": [
    "# Funcion de calculo para toda la energia del sistema en determinado tiempo\n",
    "function Simulation(T,J,NGridSize.Ntiempo=100) \n",
    "\n",
    "    Tiempos = []\n",
    "    Energias = []\n",
    "    Flips = []\n",
    "    FlipCounter = 0\n",
    "    Magnetismos = []\n",
    "    \n",
    "    \n",
    "    #Arrancando motores\n",
    "    Grid = RestartGrid(NGridSize)\n",
    "    energiaTotalN = EnergiaTotalN()\n",
    "    magnetizacion = Magnetizacion(Grid)\n",
    "\n",
    "    # Loop principal // Let the magic begin!\n",
    "    for t in 1:Ntiempo    \n",
    "        \n",
    "        Row,Col = RestartChoice()\n",
    "        energiaTotalN, FlipCounter, magnetizacion = Flipper(Row,Col,Energias, EnergiaTotalN,energiaTotalN,FlipCounter,Flips,Magnetismos, magnetizacion)\n",
    "        push!(Tiempos,t)\n",
    "    end \n",
    "    println(length(Flips), \" Flips\")\n",
    "    println(length(Magnetismos), \" Magnetismos\")\n",
    "    println(length(Energias), \" Energias\")\n",
    "    println(length(Tiempos), \" Tiempos\")\n",
    "    plot(Tiempos, Flips)\n",
    "    plot(Tiempos, Magnetismos)\n",
    "    plot(Tiempos, Energias)\n",
    "    \n",
    "end"
   ]
  },
  {
   "cell_type": "code",
   "execution_count": null,
   "metadata": {
    "collapsed": true
   },
   "outputs": [],
   "source": [
    "Simulation()"
   ]
  },
  {
   "cell_type": "code",
   "execution_count": null,
   "metadata": {
    "collapsed": true,
    "slideshow": {
     "slide_type": "slide"
    }
   },
   "outputs": [],
   "source": [
    "# Como buenos físicos, si ya tenemos nuevo juguetito, queda ver hasta dónde se puede estirar sus capacidades...\n",
    "# A ver si podemos encontrar los 3 tipos de magnetismo clásico...\n",
    "T = 300\n",
    "J = 1 \n",
    "NGridSize = 100\n",
    "NTiempo = 100\n",
    "\n",
    "Simulation(T,J,NGridSize,NTiempo)"
   ]
  },
  {
   "cell_type": "code",
   "execution_count": null,
   "metadata": {
    "collapsed": true,
    "slideshow": {
     "slide_type": "fragment"
    }
   },
   "outputs": [],
   "source": [
    "Conclusiones del comportamiento físico:\n",
    "- Tenemos una transición de fase MUY abrupta para estados que no están previamente magnetizados\n",
    "- Existe una temperatura después de la cual no se observa más magnetización\n",
    "\n"
   ]
  },
  {
   "cell_type": "code",
   "execution_count": null,
   "metadata": {
    "collapsed": true,
    "slideshow": {
     "slide_type": "slide"
    }
   },
   "outputs": [],
   "source": [
    "Debilidades del modelo y futuras áreas de interés:\n",
    "- Teselación hexagonal en 2D = más resolución\n",
    "- Spin en 360 grados\n",
    "- Modelos de interacción a mayor orden (No sólo vecinos contiguos)\n",
    "- Comportamientos bajo gradientes de temperatura"
   ]
  },
  {
   "cell_type": "code",
   "execution_count": 23,
   "metadata": {
    "collapsed": false,
    "slideshow": {
     "slide_type": "fragment"
    }
   },
   "outputs": [
    {
     "ename": "LoadError",
     "evalue": "LoadError: syntax: extra token \"dudas\" after end of expression\nwhile loading In[23], in expression starting on line 1",
     "output_type": "error",
     "traceback": [
      "LoadError: syntax: extra token \"dudas\" after end of expression\nwhile loading In[23], in expression starting on line 1",
      ""
     ]
    }
   ],
   "source": [
    "Quejas dudas comentarios sugerencias aclaraciones mentadas facepalms\n",
    "\n",
    "... pull request!"
   ]
  }
 ],
 "metadata": {
  "celltoolbar": "Slideshow",
  "kernelspec": {
   "display_name": "Julia 0.4.0",
   "language": "julia",
   "name": "julia-0.4"
  },
  "language_info": {
   "file_extension": ".jl",
   "mimetype": "application/julia",
   "name": "julia",
   "version": "0.4.1"
  }
 },
 "nbformat": 4,
 "nbformat_minor": 0
}
